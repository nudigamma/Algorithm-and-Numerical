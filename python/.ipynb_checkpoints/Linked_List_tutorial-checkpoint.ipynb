{
 "cells": [
  {
   "cell_type": "markdown",
   "metadata": {},
   "source": [
    "# The data structure #\n",
    "Linked list is a dynamic sequence of Nodes. The adjectic dynamic refers  to a data structure that can grow and shrink in size during execution. The adjective sequence refers to the methods of access/processing, a sequential access means the current position can be only accessed from a previous positio . All Nodes of a linked list hold at least one reference. The reference in python / or pointer for C/C++ points either to the next Nodes. The nodes can hold more than one objects (in Object oriented terms : each object is made from methods and values) for more information please refer to ref 1 , 2 and 3 .   \n",
    "**Definition**(from REF 1) : \" A linked list is a recursive data structure that is either empty(Null) or a reference to a node having a generic item and a reference to a linked list\"\n",
    "\n",
    "Check the README"
   ]
  },
  {
   "cell_type": "markdown",
   "metadata": {},
   "source": [
    "# The algorithms \n",
    "Note about the process: Ref 2 already have a great implentation for data structures and algorithms however it doesn't give space for a learner to think about the implementation; It does everthing for you . For example in page 48 , the class Node already has all the useful Methods. In this tutorial, our Classes will grow depending on the requierments defined in REF 1 and Ref 3.\n",
    "## Alg1  insert at the begining version 1\n",
    "case 0 : linked_list is empty  \n",
    "case 1 : linked_list has more than one node"
   ]
  },
  {
   "cell_type": "code",
   "execution_count": 1,
   "metadata": {},
   "outputs": [],
   "source": [
    "import Node # check the Node.py for the implementation details\n",
    "#Nodev1 class has the following members ne|xt, item and numbers and only one mthod incrementnumber\n"
   ]
  },
  {
   "cell_type": "code",
   "execution_count": 2,
   "metadata": {},
   "outputs": [],
   "source": [
    "#case 0 \n",
    "linked_list = Node.Nodev1(15, None)\n",
    "# the list 1 is now point to node\n"
   ]
  },
  {
   "cell_type": "code",
   "execution_count": 3,
   "metadata": {},
   "outputs": [],
   "source": [
    "# case 1 inserting node at the begining to a non null list\n",
    "# from above linked_list is point to node and node is numbered zero\n",
    "# First step would be increment node number to 1\n",
    "# Second step we save the reference to the first node \n",
    "saved_ref = linked_list\n",
    "linked_list = Node.Nodev1(45,saved_ref)\n",
    "# lastly we repoint linked_list to node\n",
    "\n",
    "# now \n"
   ]
  },
  {
   "cell_type": "code",
   "execution_count": 4,
   "metadata": {},
   "outputs": [],
   "source": [
    "\n",
    "# let us try the same algorithm again\n",
    "saved_ref = linked_list\n",
    "linked_list = Node.Nodev1(34,saved_ref)\n",
    "\n",
    "\n",
    "\n"
   ]
  },
  {
   "cell_type": "code",
   "execution_count": 5,
   "metadata": {},
   "outputs": [
    {
     "name": "stdout",
     "output_type": "stream",
     "text": [
      "<Node.Nodev1 object at 0x7f03142789e8>\n",
      "<Node.Nodev1 object at 0x7f03142788d0>\n",
      "None\n",
      "34\n",
      "45\n",
      "15\n"
     ]
    }
   ],
   "source": [
    "# Now we print the addresses of the three nodes \n",
    "print(linked_list.next)\n",
    "print(linked_list.next.next)\n",
    "print(linked_list.next.next.next)\n",
    "# now we print the values of the three nodes\n",
    "print(linked_list.item)\n",
    "print(linked_list.next.item)\n",
    "print(linked_list.next.next.item)\n",
    "# as expected \n",
    "\n",
    "# cool cool now we have 3 items linked list. First off following the encapsulation rule of object oriented we to add\n",
    "# get and set methods ( member functions) that can access both the next and item values therefore we need to modify the class Nodev1 to implement our changes\n",
    " "
   ]
  },
  {
   "cell_type": "markdown",
   "metadata": {},
   "source": [
    "### in the first part of the tutorial i was getting away with insertion a node a in the begining by using the contructor now let us do it the other way using nodev2\n",
    "\n",
    "\n",
    "\n"
   ]
  },
  {
   "cell_type": "code",
   "execution_count": 6,
   "metadata": {},
   "outputs": [],
   "source": [
    "new_node = Node.Nodev2(None,None)\n",
    "\n",
    "new_node.setItem(15)\n",
    "linked_list = new_node\n",
    "saved_ref = new_node\n",
    "\n",
    "new_node = Node.Nodev2(None,None)\n",
    "new_node.setItem(45)\n",
    "\n",
    "new_node.setNext(saved_ref)\n",
    "linked_list = new_node\n",
    "# another time \n",
    "\n",
    "saved_ref = new_node\n",
    "new_node = Node.Nodev2(None,None)\n",
    "new_node.setItem(34)\n",
    "new_node.setNext(saved_ref)\n",
    "linked_list = new_node"
   ]
  },
  {
   "cell_type": "code",
   "execution_count": 7,
   "metadata": {},
   "outputs": [
    {
     "name": "stdout",
     "output_type": "stream",
     "text": [
      "<Node.Nodev2 object at 0x7f03142789b0>\n",
      "<Node.Nodev2 object at 0x7f031429a860>\n",
      "None\n",
      "34\n",
      "45\n",
      "15\n"
     ]
    }
   ],
   "source": [
    "# Now we print the addresses of the three nodes \n",
    "print(linked_list.getNext())\n",
    "print(linked_list.next.getNext())\n",
    "print(linked_list.next.next.getNext())\n",
    "#now we print the values of the three nodes\n",
    "print(linked_list.getItem())\n",
    "print(linked_list.next.getItem())\n",
    "print(linked_list.next.next.getItem())"
   ]
  },
  {
   "cell_type": "code",
   "execution_count": 8,
   "metadata": {},
   "outputs": [],
   "source": [
    "# alright let us now write the insertAtBegining\n",
    "\n",
    "def insertAtBeginning(item,linked_list):\n",
    "    saved_ref  = linked_list\n",
    "    linked_list = Node.Nodev2(item,saved_ref)\n",
    "    return linked_list\n"
   ]
  },
  {
   "cell_type": "code",
   "execution_count": 9,
   "metadata": {},
   "outputs": [],
   "source": [
    "# let us try the same thing again\n",
    "linked_list = insertAtBeginning(15,None)\n",
    "linked_list = insertAtBeginning(45,linked_list)\n",
    "linked_list = insertAtBeginning(34,linked_list)"
   ]
  },
  {
   "cell_type": "code",
   "execution_count": 10,
   "metadata": {},
   "outputs": [
    {
     "name": "stdout",
     "output_type": "stream",
     "text": [
      "34\n",
      "45\n",
      "15\n"
     ]
    }
   ],
   "source": [
    "print(linked_list.getItem())\n",
    "print(linked_list.getNext().getItem())\n",
    "print(linked_list.getNext().getNext().getItem())"
   ]
  },
  {
   "cell_type": "code",
   "execution_count": 11,
   "metadata": {},
   "outputs": [
    {
     "name": "stdout",
     "output_type": "stream",
     "text": [
      "<Node.Nodev2 object at 0x7f0314278f28>\n",
      "<Node.Nodev2 object at 0x7f0314278f98>\n",
      "None\n"
     ]
    }
   ],
   "source": [
    "print(linked_list.getNext())\n",
    "print(linked_list.getNext().getNext())\n",
    "print(linked_list.getNext().getNext().getNext())"
   ]
  },
  {
   "cell_type": "code",
   "execution_count": 80,
   "metadata": {},
   "outputs": [
    {
     "name": "stdout",
     "output_type": "stream",
     "text": [
      "501\n",
      "985\n",
      "365\n",
      "755\n",
      "978\n",
      "534\n",
      "259\n",
      "339\n",
      "631\n",
      "980\n",
      "None\n",
      "501\n",
      "985\n",
      "365\n",
      "755\n",
      "978\n",
      "534\n",
      "259\n",
      "339\n",
      "631\n",
      "980\n",
      "4\n",
      "None\n"
     ]
    }
   ],
   "source": [
    "# As you can see regardless of the size of the list, we are doing the same number of operations \n",
    "# therefore the computation complexity of the insertAtBegining is o(1) \n",
    "# now let us try something else, insert at the end.\n",
    "# first let us assume the general case of having a linked list\n",
    "# remember we only have the pointer that points at the first node. \n",
    "# ok let us take our linked_list from above( rember it has 3 items)\n",
    "# also at this stage forget about maitaining a counter pointing at the end of the list !\n",
    "import numpy as np \n",
    "import Node\n",
    "linked_list = None # grabage collection for python\n",
    "# let us fill the list with numbers 0 -10 \n",
    "\n",
    "# at this stage two algorithms came to be \n",
    "# 1 make list . \n",
    "# 2 traverse list \n",
    "\n",
    "# make list o(n) , I hope you see why this obvious \n",
    "def makeList(linked_list,number_of_items,random):\n",
    "    if (random):\n",
    "        for index in range(number_of_items+1):\n",
    "            linked_list = insertAtBeginning(np.random.randint(0,1000),linked_list)\n",
    "    else:\n",
    "        linked_list = insertAtBeginning(index,linked_list)\n",
    "    return linked_list\n",
    "\n",
    "linked_list = makeList(linked_list,10,True)\n",
    "\n",
    "# traverse list is also o(n)\n",
    "def traverseList(linked_list):\n",
    "    if linked_list == None:\n",
    "        print(\"Linked List is empty\")\n",
    "        return None\n",
    "    walking_ref = linked_list\n",
    "    while(walking_ref.getNext() != None):\n",
    "        walking_ref = walking_ref.getNext()\n",
    "        print(walking_ref.getItem())\n",
    "    # I mean since we did all the trouble of traversing the list let us get the reference \n",
    "    # that point at the end\n",
    "    return walking_ref     \n",
    "\n",
    "endReference = traverseList(linked_list)\n",
    "\n",
    "# sanity check\n",
    "print(endReference.getNext())\n",
    "# oh cool we cheated now , we get the end pointer and now we can insert at the end.\n",
    "# \n",
    "# if the list has at least one node we need the last pointer in that list . if our API doesn't maintain an end pointer\n",
    "# We can always traverse the list which o(n) which can be cubersome for very big n. \n",
    "# \n",
    "def insertAtEnd(end_of_list,item):\n",
    "    \n",
    "    node = Node.Nodev2(item,None) # since it is an end node\n",
    "    end_of_list.setNext(node)\n",
    "    end_of_list = node\n",
    "    \n",
    "    return end_of_list\n",
    "\n",
    "endReference = insertAtEnd(endReference,4)\n",
    "    \n",
    "    \n",
    "endReference = traverseList(linked_list)\n",
    "\n",
    "\n",
    "# sanity check\n",
    "print(endReference.getNext())\n",
    "\n",
    "\n",
    "\n"
   ]
  },
  {
   "cell_type": "code",
   "execution_count": 81,
   "metadata": {
    "scrolled": true
   },
   "outputs": [],
   "source": [
    "def removeFromBeginning(linked_list):\n",
    "    if linked_list == None: # empty list\n",
    "        return None, None\n",
    "    saved_item = linked_list.getItem()\n",
    "    linked_list = linked_list.getNext()\n",
    "    return saved_item, linked_list\n",
    "    "
   ]
  },
  {
   "cell_type": "code",
   "execution_count": 82,
   "metadata": {},
   "outputs": [],
   "source": [
    "item, linked_list = removeFromBeginning(linked_list)"
   ]
  },
  {
   "cell_type": "code",
   "execution_count": 83,
   "metadata": {},
   "outputs": [
    {
     "name": "stdout",
     "output_type": "stream",
     "text": [
      "985\n",
      "365\n",
      "755\n",
      "978\n",
      "534\n",
      "259\n",
      "339\n",
      "631\n",
      "980\n",
      "4\n"
     ]
    }
   ],
   "source": [
    "endReference = traverseList(linked_list)"
   ]
  },
  {
   "cell_type": "code",
   "execution_count": 84,
   "metadata": {},
   "outputs": [],
   "source": [
    "# o(n-1) for big n >>> 1 , o(n)\n",
    "def removeFromEnd(linked_list):\n",
    "    if (linked_list == None or linked_list.getNext() == None):\n",
    "        linked_list = None \n",
    "        return linked_list # return the removed node \n",
    "    \n",
    "    moving_ref = linked_list\n",
    "\n",
    "    while(moving_ref.getNext().getNext() != None):\n",
    "        moving_ref = moving_ref.getNext()\n",
    "    moving_ref.setNext(None) \n",
    "    \n",
    "    return linked_list \n",
    "    \n",
    "    "
   ]
  },
  {
   "cell_type": "code",
   "execution_count": 85,
   "metadata": {},
   "outputs": [
    {
     "name": "stdout",
     "output_type": "stream",
     "text": [
      "985\n",
      "365\n",
      "755\n",
      "978\n",
      "534\n",
      "259\n",
      "339\n",
      "631\n",
      "980\n"
     ]
    }
   ],
   "source": [
    "\n",
    "linked_list  =  removeFromEnd(linked_list)\n",
    "endReference =  traverseList(linked_list)"
   ]
  },
  {
   "cell_type": "code",
   "execution_count": 86,
   "metadata": {},
   "outputs": [],
   "source": [
    "# o(n-1) for insertNode at rnadom position\n",
    "\n",
    "def insertNode(pos,item,linked_list):\n",
    "    if linked_list == None:\n",
    "        linked_list= insertAtBeginning(item,None)\n",
    "        return linked_list\n",
    "    \n",
    "    new_node = Node.Nodev2(item,None)\n",
    "    moving_ref = linked_list\n",
    "    for node_number in range(pos):\n",
    "        if moving_ref.next != None:\n",
    "            moving_ref = moving_ref.next\n",
    "        else:\n",
    "            print(\"linked list overflow, return linked list as is \")\n",
    "            return linked_list\n",
    "    new_node.setNext(moving_ref.next)\n",
    "    moving_ref.next = new_node\n",
    "    \n",
    "    return linked_list\n",
    "    "
   ]
  },
  {
   "cell_type": "code",
   "execution_count": 87,
   "metadata": {},
   "outputs": [
    {
     "name": "stdout",
     "output_type": "stream",
     "text": [
      "985\n",
      "3000\n",
      "365\n",
      "755\n",
      "978\n",
      "534\n",
      "259\n",
      "339\n",
      "631\n",
      "980\n"
     ]
    }
   ],
   "source": [
    "linked_list1 = linked_list\n",
    "linked_list1 = insertNode(1,3000,linked_list1)\n",
    "endReference = traverseList(linked_list1)\n"
   ]
  },
  {
   "cell_type": "code",
   "execution_count": 88,
   "metadata": {},
   "outputs": [
    {
     "name": "stdout",
     "output_type": "stream",
     "text": [
      "3000\n",
      "985\n",
      "3000\n",
      "365\n",
      "755\n",
      "978\n",
      "534\n",
      "259\n",
      "339\n",
      "631\n",
      "980\n"
     ]
    }
   ],
   "source": [
    "linked_list1 = insertNode(0,3000,linked_list1)\n",
    "endReference = traverseList(linked_list1)"
   ]
  },
  {
   "cell_type": "code",
   "execution_count": 89,
   "metadata": {},
   "outputs": [
    {
     "name": "stdout",
     "output_type": "stream",
     "text": [
      "linked list overflow\n",
      "3000\n",
      "985\n",
      "3000\n",
      "365\n",
      "755\n",
      "978\n",
      "534\n",
      "259\n",
      "339\n",
      "631\n",
      "980\n"
     ]
    }
   ],
   "source": [
    "linked_list1  = insertNode(3000,3000,linked_list1)\n",
    "endReference = traverseList(linked_list1)"
   ]
  },
  {
   "cell_type": "code",
   "execution_count": 95,
   "metadata": {},
   "outputs": [],
   "source": [
    "linked_list1 = None \n",
    "linked_list1 = insertNode(0,3000,linked_list1)\n",
    "endReference = traverseList(linked_list1)\n"
   ]
  },
  {
   "cell_type": "code",
   "execution_count": 96,
   "metadata": {},
   "outputs": [
    {
     "name": "stdout",
     "output_type": "stream",
     "text": [
      "3000\n"
     ]
    }
   ],
   "source": [
    "print(linked_list1.getItem())"
   ]
  },
  {
   "cell_type": "code",
   "execution_count": null,
   "metadata": {},
   "outputs": [],
   "source": [
    "def removeNode(pos,item,linked_list):\n",
    "    if linked_list == None or pos = 0: # python grabage collection will take care of it \n",
    "        return None \n",
    "    \n",
    "    moving_ref = linked_list\n",
    "    for node_number in range(pos):\n",
    "        if moving_ref.next != None:\n",
    "            moving_ref = moving_ref.next\n",
    "        else:\n",
    "            print(\"linked list overflow, return linked list as is \")\n",
    "            return linked_list\n",
    "    moving_ref.getNext() = moving_red.getNext()\n",
    "    \n",
    "    return linked_list"
   ]
  }
 ],
 "metadata": {
  "kernelspec": {
   "display_name": "Python 3",
   "language": "python",
   "name": "python3"
  },
  "language_info": {
   "codemirror_mode": {
    "name": "ipython",
    "version": 3
   },
   "file_extension": ".py",
   "mimetype": "text/x-python",
   "name": "python",
   "nbconvert_exporter": "python",
   "pygments_lexer": "ipython3",
   "version": "3.7.1"
  }
 },
 "nbformat": 4,
 "nbformat_minor": 2
}
