{
 "cells": [
  {
   "cell_type": "markdown",
   "metadata": {},
   "source": [
    "# The data structure #\n",
    "Linked list is a dynamic sequence of Nodes. The adjectic dynamic refers  to a data structure that can grow and shrink in size during execution. The adjective sequence refers to the methods of access/processing, a sequential access means the current position can be only accessed from a previous positio . All Nodes of a linked list hold at least one reference. The reference in python / or pointer for C/C++ points either to the next Nodes. The nodes can hold more than one objects (in Object oriented terms : each object is made from methods and values) for more information please refer to ref 1 , 2 and 3 .   \n",
    "**Definition**(from REF 1) : \" A linked list is a recursive data structure that is either empty(Null) or a reference to a node having a generic item and a reference to a linked list\"\n",
    "\n",
    "Check the README"
   ]
  },
  {
   "cell_type": "markdown",
   "metadata": {},
   "source": [
    "# The algorithms \n",
    "Note about the process: Ref 2 already have a great implentation for data structures and algorithms however it doesn't give space for a learner to think about the implementation; It does everthing for you . For example in page 48 , the class Node already has all the useful Methods. In this tutorial, our Classes will grow depending on the requierments defined in REF 1 and Ref 3.\n",
    "## Alg1  insert at the begining version 1\n",
    "case 0 : linked_list is empty  \n",
    "case 1 : linked_list has more than one node"
   ]
  },
  {
   "cell_type": "code",
   "execution_count": 2,
   "metadata": {},
   "outputs": [],
   "source": [
    "import Node # check the Node.py for the implementation details\n",
    "#Nodev1 class has the following members ne|xt, item and numbers and only one mthod incrementnumber\n"
   ]
  },
  {
   "cell_type": "code",
   "execution_count": 3,
   "metadata": {},
   "outputs": [],
   "source": [
    "#case 0 \n",
    "linked_list = Node.Nodev1(15, None)\n",
    "# the list 1 is now point to node\n"
   ]
  },
  {
   "cell_type": "code",
   "execution_count": 6,
   "metadata": {},
   "outputs": [],
   "source": [
    "# case 1 inserting node at the begining to a non null list\n",
    "# from above linked_list is point to node and node is numbered zero\n",
    "# First step would be increment node number to 1\n",
    "# Second step we save the reference to the first node \n",
    "saved_ref = linked_list\n",
    "linked_list = Node.Nodev1(45,saved_ref)\n",
    "# lastly we repoint linked_list to node\n",
    "\n",
    "# now \n"
   ]
  },
  {
   "cell_type": "code",
   "execution_count": 7,
   "metadata": {},
   "outputs": [],
   "source": [
    "\n",
    "# let us try the same algorithm again\n",
    "saved_ref = linked_list\n",
    "linked_list = Node.Nodev1(34,saved_ref)\n",
    "\n",
    "\n",
    "\n"
   ]
  },
  {
   "cell_type": "code",
   "execution_count": 9,
   "metadata": {},
   "outputs": [
    {
     "name": "stdout",
     "output_type": "stream",
     "text": [
      "<Node.Nodev1 object at 0x7f4e584f15f8>\n",
      "<Node.Nodev1 object at 0x7f4e584c0c18>\n",
      "None\n",
      "34\n",
      "45\n",
      "15\n"
     ]
    }
   ],
   "source": [
    "# Now we print the addresses of the three nodes \n",
    "print(linked_list)\n",
    "print(linked_list.next)\n",
    "print(linked_list.next.next.next)\n",
    "# now we print the values of the three nodes\n",
    "print(linked_list.item)\n",
    "print(linked_list.next.item)\n",
    "print(linked_list.next.next.item)\n",
    "# as expected \n",
    "\n",
    "# cool cool now we have 3 items linked list. First off following the encapsulation rule of object oriented we to add\n",
    "# get and set methods ( member functions) that can access both the next and item values therefore we need to modify the class Nodev1 to implement our changes\n",
    " "
   ]
  },
  {
   "cell_type": "markdown",
   "metadata": {},
   "source": [
    "### in the first part of the tutorial i was getting away with insertion a node a in the begining by using the contructor now let us do it the other way using nodev2\n",
    "\n",
    "\n",
    "\n"
   ]
  },
  {
   "cell_type": "code",
   "execution_count": null,
   "metadata": {},
   "outputs": [],
   "source": [
    "new_node = Node.Nodev2(None,None)\n",
    "\n",
    "new_node.setItem(15)\n",
    "linked_list = new_node\n",
    "saved_ref = new_node\n",
    "\n",
    "new_node = Node.Nodev2(None,None)\n",
    "new_node.setItem(45)\n",
    "\n",
    "new_node.setNext(saved_ref)\n",
    "linked_list = new_node\n",
    "# another time \n",
    "\n",
    "saved_ref = new_node\n",
    "new_node = Node.Nodev2(None,None)\n",
    "new_node.setItem(34)\n",
    "new_node.setNext(saved_ref)\n",
    "linked_list = new_node"
   ]
  },
  {
   "cell_type": "code",
   "execution_count": null,
   "metadata": {},
   "outputs": [],
   "source": [
    "# Now we print the addresses of the three nodes \n",
    "print(linked_list.getNext())\n",
    "print(linked_list.next.getNext())\n",
    "print(linked_list.next.next.getNext())\n",
    "#now we print the values of the three nodes\n",
    "print(linked_list.getItem())\n",
    "print(linked_list.next.getItem())\n",
    "print(linked_list.next.next.getItem())"
   ]
  },
  {
   "cell_type": "code",
   "execution_count": null,
   "metadata": {},
   "outputs": [],
   "source": [
    "# alright let us now write the insertAtBegining\n",
    "\n",
    "def insertAtBegining(item,begining_ref):\n",
    "    saved_ref  = begining_ref\n",
    "    begining_ref = Node.NodeV2(item,saved_ref)\n"
   ]
  }
 ],
 "metadata": {
  "kernelspec": {
   "display_name": "Python 3",
   "language": "python",
   "name": "python3"
  },
  "language_info": {
   "codemirror_mode": {
    "name": "ipython",
    "version": 3
   },
   "file_extension": ".py",
   "mimetype": "text/x-python",
   "name": "python",
   "nbconvert_exporter": "python",
   "pygments_lexer": "ipython3",
   "version": "3.7.1"
  }
 },
 "nbformat": 4,
 "nbformat_minor": 2
}
