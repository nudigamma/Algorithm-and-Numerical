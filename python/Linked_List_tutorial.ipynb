{
 "cells": [
  {
   "cell_type": "markdown",
   "metadata": {},
   "source": [
    "# The data structure #\n",
    "Linked list is a dynamic sequence of Nodes. The adjectic dynamic refers  to a data structure that can grow and shrink in size during execution. The adjective sequence refers to the methods of access/processing, a sequential access means the current position can be only accessed from a previous positio . All Nodes of a linked list hold at least one reference. The reference in python / or pointer for C/C++ points either to the next Nodes. The nodes can hold more than one objects (in Object oriented terms : each object is made from methods and values) for more information please refer to ref 1 , 2 and 3 .   \n",
    "**Definition**(from REF 1) : \" A linked list is a recursive data structure that is either empty(Null) or a reference to a node having a generic item and a reference to a linked list\"\n",
    "\n",
    "Check the README"
   ]
  },
  {
   "cell_type": "markdown",
   "metadata": {},
   "source": [
    "# The algorithms \n",
    "Note about the process: Ref 2 already have a great implentation for data structures and algorithms however it doesn't give space for a learner to think about the implementation; It does everthing for you . For example in page 48 , the class Node already has all the useful Methods. In this tutorial, our Classes will grow depending on the requierments defined in REF 1 and Ref 3.\n",
    "## Alg1  insert at the begining version 1\n",
    "case 0 : linked_list is empty  \n",
    "case 1 : linked_list has more than one node"
   ]
  },
  {
   "cell_type": "code",
   "execution_count": 1,
   "metadata": {},
   "outputs": [],
   "source": [
    "import Node # check the Node.py for the implementation details\n",
    "#Nodev1 class has the following members ne|xt, item and numbers and only one mthod incrementnumber\n"
   ]
  },
  {
   "cell_type": "code",
   "execution_count": 2,
   "metadata": {},
   "outputs": [],
   "source": [
    "#case 0 \n",
    "linked_list = Node.Nodev1(15, None)\n",
    "# the list 1 is now point to node\n"
   ]
  },
  {
   "cell_type": "code",
   "execution_count": 3,
   "metadata": {},
   "outputs": [],
   "source": [
    "# case 1 inserting node at the begining to a non null list\n",
    "# from above linked_list is point to node and node is numbered zero\n",
    "# First step would be increment node number to 1\n",
    "# Second step we save the reference to the first node \n",
    "saved_ref = linked_list\n",
    "linked_list = Node.Nodev1(45,saved_ref)\n",
    "# lastly we repoint linked_list to node\n",
    "\n",
    "# now \n"
   ]
  },
  {
   "cell_type": "code",
   "execution_count": 4,
   "metadata": {},
   "outputs": [],
   "source": [
    "\n",
    "# let us try the same algorithm again\n",
    "saved_ref = linked_list\n",
    "linked_list = Node.Nodev1(34,saved_ref)\n",
    "\n",
    "\n",
    "\n"
   ]
  },
  {
   "cell_type": "code",
   "execution_count": 5,
   "metadata": {},
   "outputs": [
    {
     "name": "stdout",
     "output_type": "stream",
     "text": [
      "<Node.Nodev1 object at 0x7f0744544908>\n",
      "<Node.Nodev1 object at 0x7f07445447b8>\n",
      "None\n",
      "34\n",
      "45\n",
      "15\n"
     ]
    }
   ],
   "source": [
    "# Now we print the addresses of the three nodes \n",
    "print(linked_list.next)\n",
    "print(linked_list.next.next)\n",
    "print(linked_list.next.next.next)\n",
    "# now we print the values of the three nodes\n",
    "print(linked_list.item)\n",
    "print(linked_list.next.item)\n",
    "print(linked_list.next.next.item)\n",
    "# as expected \n",
    "\n",
    "# cool cool now we have 3 items linked list. First off following the encapsulation rule of object oriented we to add\n",
    "# get and set methods ( member functions) that can access both the next and item values therefore we need to modify the class Nodev1 to implement our changes\n",
    " "
   ]
  },
  {
   "cell_type": "markdown",
   "metadata": {},
   "source": [
    "### in the first part of the tutorial i was getting away with insertion a node a in the begining by using the contructor now let us do it the other way using nodev2\n",
    "\n",
    "\n",
    "\n"
   ]
  },
  {
   "cell_type": "code",
   "execution_count": 6,
   "metadata": {},
   "outputs": [],
   "source": [
    "new_node = Node.Nodev2(None,None)\n",
    "\n",
    "new_node.setItem(15)\n",
    "linked_list = new_node\n",
    "saved_ref = new_node\n",
    "\n",
    "new_node = Node.Nodev2(None,None)\n",
    "new_node.setItem(45)\n",
    "\n",
    "new_node.setNext(saved_ref)\n",
    "linked_list = new_node\n",
    "# another time \n",
    "\n",
    "saved_ref = new_node\n",
    "new_node = Node.Nodev2(None,None)\n",
    "new_node.setItem(34)\n",
    "new_node.setNext(saved_ref)\n",
    "linked_list = new_node"
   ]
  },
  {
   "cell_type": "code",
   "execution_count": 7,
   "metadata": {},
   "outputs": [
    {
     "name": "stdout",
     "output_type": "stream",
     "text": [
      "<Node.Nodev2 object at 0x7f07445448d0>\n",
      "<Node.Nodev2 object at 0x7f0744550668>\n",
      "None\n",
      "34\n",
      "45\n",
      "15\n"
     ]
    }
   ],
   "source": [
    "# Now we print the addresses of the three nodes \n",
    "print(linked_list.getNext())\n",
    "print(linked_list.next.getNext())\n",
    "print(linked_list.next.next.getNext())\n",
    "#now we print the values of the three nodes\n",
    "print(linked_list.getItem())\n",
    "print(linked_list.next.getItem())\n",
    "print(linked_list.next.next.getItem())"
   ]
  },
  {
   "cell_type": "code",
   "execution_count": 8,
   "metadata": {},
   "outputs": [],
   "source": [
    "# alright let us now write the insertAtBegining\n",
    "\n",
    "def insertAtBeginning(item,linked_list):\n",
    "    saved_ref  = linked_list\n",
    "    linked_list = Node.Nodev2(item,saved_ref)\n",
    "    return linked_list\n"
   ]
  },
  {
   "cell_type": "code",
   "execution_count": 9,
   "metadata": {},
   "outputs": [],
   "source": [
    "# let us try the same thing again\n",
    "linked_list = insertAtBeginning(15,None)\n",
    "linked_list = insertAtBeginning(45,linked_list)\n",
    "linked_list = insertAtBeginning(34,linked_list)"
   ]
  },
  {
   "cell_type": "code",
   "execution_count": 10,
   "metadata": {},
   "outputs": [
    {
     "name": "stdout",
     "output_type": "stream",
     "text": [
      "34\n",
      "45\n",
      "15\n"
     ]
    }
   ],
   "source": [
    "print(linked_list.getItem())\n",
    "print(linked_list.getNext().getItem())\n",
    "print(linked_list.getNext().getNext().getItem())"
   ]
  },
  {
   "cell_type": "code",
   "execution_count": 11,
   "metadata": {},
   "outputs": [
    {
     "name": "stdout",
     "output_type": "stream",
     "text": [
      "<Node.Nodev2 object at 0x7f0744544da0>\n",
      "<Node.Nodev2 object at 0x7f0744544e10>\n",
      "None\n"
     ]
    }
   ],
   "source": [
    "print(linked_list.getNext())\n",
    "print(linked_list.getNext().getNext())\n",
    "print(linked_list.getNext().getNext().getNext())"
   ]
  },
  {
   "cell_type": "code",
   "execution_count": 12,
   "metadata": {},
   "outputs": [
    {
     "name": "stdout",
     "output_type": "stream",
     "text": [
      "786\n",
      "114\n",
      "756\n",
      "322\n",
      "927\n",
      "392\n",
      "42\n",
      "274\n",
      "415\n",
      "680\n",
      "None\n",
      "786\n",
      "114\n",
      "756\n",
      "322\n",
      "927\n",
      "392\n",
      "42\n",
      "274\n",
      "415\n",
      "680\n",
      "4\n",
      "None\n"
     ]
    }
   ],
   "source": [
    "# As you can see regardless of the size of the list, we are doing the same number of operations \n",
    "# therefore the computation complexity of the insertAtBegining is o(1) \n",
    "# now let us try something else, insert at the end.\n",
    "# first let us assume the general case of having a linked list\n",
    "# remember we only have the pointer that points at the first node. \n",
    "# ok let us take our linked_list from above( rember it has 3 items)\n",
    "# also at this stage forget about maitaining a counter pointing at the end of the list !\n",
    "import numpy as np \n",
    "import Node\n",
    "linked_list = None # grabage collection for python\n",
    "# let us fill the list with numbers 0 -10 \n",
    "\n",
    "# at this stage two algorithms came to be \n",
    "# 1 make list . \n",
    "# 2 traverse list \n",
    "\n",
    "# make list o(n) , I hope you see why this obvious \n",
    "def makeList(linked_list,number_of_items,random):\n",
    "    if (random):\n",
    "        for index in range(number_of_items+1):\n",
    "            linked_list = insertAtBeginning(np.random.randint(0,1000),linked_list)\n",
    "    else:\n",
    "        linked_list = insertAtBeginning(index,linked_list)\n",
    "    return linked_list\n",
    "\n",
    "linked_list = makeList(linked_list,10,True)\n",
    "\n",
    "# traverse list is also o(n)\n",
    "def traverseList(linked_list):\n",
    "    if linked_list == None:\n",
    "        print(\"Linked List is empty\")\n",
    "        return None\n",
    "    walking_ref = linked_list\n",
    "    while(walking_ref.getNext() != None):\n",
    "        walking_ref = walking_ref.getNext()\n",
    "        print(walking_ref.getItem())\n",
    "    # I mean since we did all the trouble of traversing the list let us get the reference \n",
    "    # that point at the end\n",
    "    return walking_ref     \n",
    "\n",
    "endReference = traverseList(linked_list)\n",
    "\n",
    "# sanity check\n",
    "print(endReference.getNext())\n",
    "# oh cool we cheated now , we get the end pointer and now we can insert at the end.\n",
    "# \n",
    "# if the list has at least one node we need the last pointer in that list . if our API doesn't maintain an end pointer\n",
    "# We can always traverse the list which o(n) which can be cubersome for very big n. \n",
    "# \n",
    "def insertAtEnd(end_of_list,item):\n",
    "    \n",
    "    node = Node.Nodev2(item,None) # since it is an end node\n",
    "    end_of_list.setNext(node)\n",
    "    end_of_list = node\n",
    "    \n",
    "    return end_of_list\n",
    "\n",
    "endReference = insertAtEnd(endReference,4)\n",
    "    \n",
    "    \n",
    "endReference = traverseList(linked_list)\n",
    "\n",
    "\n",
    "# sanity check\n",
    "print(endReference.getNext())\n",
    "\n",
    "\n",
    "\n"
   ]
  },
  {
   "cell_type": "code",
   "execution_count": 13,
   "metadata": {
    "scrolled": true
   },
   "outputs": [],
   "source": [
    "def removeFromBeginning(linked_list):\n",
    "    if linked_list == None: # empty list\n",
    "        return None, None\n",
    "    saved_item = linked_list.getItem()\n",
    "    linked_list = linked_list.getNext()\n",
    "    return saved_item, linked_list\n",
    "    "
   ]
  },
  {
   "cell_type": "code",
   "execution_count": 14,
   "metadata": {},
   "outputs": [],
   "source": [
    "item, linked_list = removeFromBeginning(linked_list)"
   ]
  },
  {
   "cell_type": "code",
   "execution_count": 15,
   "metadata": {},
   "outputs": [
    {
     "name": "stdout",
     "output_type": "stream",
     "text": [
      "114\n",
      "756\n",
      "322\n",
      "927\n",
      "392\n",
      "42\n",
      "274\n",
      "415\n",
      "680\n",
      "4\n"
     ]
    }
   ],
   "source": [
    "endReference = traverseList(linked_list)"
   ]
  },
  {
   "cell_type": "code",
   "execution_count": 16,
   "metadata": {},
   "outputs": [],
   "source": [
    "# o(n-1) for big n >>> 1 , o(n)\n",
    "def removeFromEnd(linked_list):\n",
    "    if (linked_list == None or linked_list.getNext() == None):\n",
    "        linked_list = None \n",
    "        return linked_list # return the removed node \n",
    "    \n",
    "    moving_ref = linked_list\n",
    "\n",
    "    while(moving_ref.getNext().getNext() != None):\n",
    "        moving_ref = moving_ref.getNext()\n",
    "    moving_ref.setNext(None) \n",
    "    \n",
    "    return linked_list \n",
    "    \n",
    "    "
   ]
  },
  {
   "cell_type": "code",
   "execution_count": 17,
   "metadata": {},
   "outputs": [
    {
     "name": "stdout",
     "output_type": "stream",
     "text": [
      "114\n",
      "756\n",
      "322\n",
      "927\n",
      "392\n",
      "42\n",
      "274\n",
      "415\n",
      "680\n"
     ]
    }
   ],
   "source": [
    "\n",
    "linked_list  =  removeFromEnd(linked_list)\n",
    "endReference =  traverseList(linked_list)"
   ]
  },
  {
   "cell_type": "code",
   "execution_count": 18,
   "metadata": {},
   "outputs": [],
   "source": [
    "# o(n-1) for insertNode at rnadom position\n",
    "\n",
    "def insertNode(pos,item,linked_list):\n",
    "    if linked_list == None:\n",
    "        linked_list = insertAtBeginning(item,None)\n",
    "        return linked_list\n",
    "    \n",
    "    new_node = Node.Nodev2(item,None)\n",
    "    moving_ref = linked_list\n",
    "    for node_number in range(pos):\n",
    "        if moving_ref.next != None:\n",
    "            moving_ref = moving_ref.next\n",
    "        else:\n",
    "            print(\"linked list overflow, return linked list as is \")\n",
    "            return linked_list\n",
    "    new_node.setNext(moving_ref.next)\n",
    "    moving_ref.next = new_node\n",
    "    \n",
    "    return linked_list\n",
    "    "
   ]
  },
  {
   "cell_type": "code",
   "execution_count": 19,
   "metadata": {},
   "outputs": [
    {
     "name": "stdout",
     "output_type": "stream",
     "text": [
      "114\n",
      "3000\n",
      "756\n",
      "322\n",
      "927\n",
      "392\n",
      "42\n",
      "274\n",
      "415\n",
      "680\n"
     ]
    }
   ],
   "source": [
    "linked_list1 = linked_list\n",
    "linked_list1 = insertNode(1,3000,linked_list1)\n",
    "endReference = traverseList(linked_list1)\n"
   ]
  },
  {
   "cell_type": "code",
   "execution_count": 20,
   "metadata": {},
   "outputs": [
    {
     "name": "stdout",
     "output_type": "stream",
     "text": [
      "3000\n",
      "114\n",
      "3000\n",
      "756\n",
      "322\n",
      "927\n",
      "392\n",
      "42\n",
      "274\n",
      "415\n",
      "680\n"
     ]
    }
   ],
   "source": [
    "linked_list1 = insertNode(0,3000,linked_list1)\n",
    "endReference = traverseList(linked_list1)"
   ]
  },
  {
   "cell_type": "code",
   "execution_count": 160,
   "metadata": {},
   "outputs": [
    {
     "name": "stdout",
     "output_type": "stream",
     "text": [
      "linked list overflow, return linked list as is \n",
      "3000\n",
      "318\n",
      "3000\n",
      "733\n",
      "793\n",
      "652\n",
      "554\n",
      "591\n",
      "734\n",
      "564\n",
      "473\n"
     ]
    }
   ],
   "source": [
    "linked_list1  = insertNode(3000,3000,linked_list1)\n",
    "endReference = traverseList(linked_list1)"
   ]
  },
  {
   "cell_type": "code",
   "execution_count": 21,
   "metadata": {},
   "outputs": [],
   "source": [
    "linked_list1 = None \n",
    "linked_list1 = insertNode(0,3000,linked_list1)\n",
    "endReference = traverseList(linked_list1)\n"
   ]
  },
  {
   "cell_type": "code",
   "execution_count": 23,
   "metadata": {},
   "outputs": [
    {
     "name": "stdout",
     "output_type": "stream",
     "text": [
      "3000\n"
     ]
    }
   ],
   "source": [
    "print(linked_list1.getItem())"
   ]
  },
  {
   "cell_type": "code",
   "execution_count": 189,
   "metadata": {},
   "outputs": [],
   "source": [
    "# it is better to think about it with pointer to the end \n",
    "def removeNode_defunct(pos,linked_list):\n",
    "    '''remove Node , I am not sure how python garbage collection deals with nodes\n",
    "       not pointed to by another node but still pointing to something \n",
    "       I will assume it keep it in memory for now untill i read more about gc'''\n",
    "    if linked_list == None:\n",
    "        return linked_list \n",
    "    counter = 0\n",
    "    moving_ref = linked_list\n",
    "    while ( moving_ref.getNext().getNext() != None ):\n",
    "        counter += 1\n",
    "        moving_ref = moving_ref.getNext()\n",
    "    \n",
    "    \n",
    "    if pos > (counter +2):\n",
    "        print(\"oveflow \")\n",
    "        return linked_list\n",
    "    moving_ref.setNext(moving_ref.getNext().getNext())\n",
    "    #moving_ref.getNext().setNext(None)\n",
    "    \n",
    "    return linked_list\n",
    "\n",
    "def removeNode(pos,first_ref,last_ref):\n",
    "    pass "
   ]
  },
  {
   "cell_type": "code",
   "execution_count": 170,
   "metadata": {},
   "outputs": [
    {
     "name": "stdout",
     "output_type": "stream",
     "text": [
      "3000\n"
     ]
    }
   ],
   "source": [
    "endReference = traverseList(linked_list)"
   ]
  },
  {
   "cell_type": "code",
   "execution_count": 171,
   "metadata": {},
   "outputs": [
    {
     "ename": "AttributeError",
     "evalue": "'NoneType' object has no attribute 'getNext'",
     "output_type": "error",
     "traceback": [
      "\u001b[0;31m---------------------------------------------------------------------------\u001b[0m",
      "\u001b[0;31mAttributeError\u001b[0m                            Traceback (most recent call last)",
      "\u001b[0;32m<ipython-input-171-77ad3b67c5dd>\u001b[0m in \u001b[0;36m<module>\u001b[0;34m\u001b[0m\n\u001b[0;32m----> 1\u001b[0;31m \u001b[0mlinked_list\u001b[0m \u001b[0;34m=\u001b[0m \u001b[0mremoveNode\u001b[0m\u001b[0;34m(\u001b[0m\u001b[0;36m1\u001b[0m\u001b[0;34m,\u001b[0m\u001b[0mlinked_list\u001b[0m\u001b[0;34m)\u001b[0m\u001b[0;34m\u001b[0m\u001b[0;34m\u001b[0m\u001b[0m\n\u001b[0m",
      "\u001b[0;32m<ipython-input-167-8920726b89d2>\u001b[0m in \u001b[0;36mremoveNode\u001b[0;34m(pos, linked_list)\u001b[0m\n\u001b[1;32m     11\u001b[0m \u001b[0;34m\u001b[0m\u001b[0m\n\u001b[1;32m     12\u001b[0m \u001b[0;34m\u001b[0m\u001b[0m\n\u001b[0;32m---> 13\u001b[0;31m     \u001b[0mmoving_ref\u001b[0m\u001b[0;34m.\u001b[0m\u001b[0msetNext\u001b[0m\u001b[0;34m(\u001b[0m\u001b[0mmoving_ref\u001b[0m\u001b[0;34m.\u001b[0m\u001b[0mgetNext\u001b[0m\u001b[0;34m(\u001b[0m\u001b[0;34m)\u001b[0m\u001b[0;34m.\u001b[0m\u001b[0mgetNext\u001b[0m\u001b[0;34m(\u001b[0m\u001b[0;34m)\u001b[0m\u001b[0;34m)\u001b[0m\u001b[0;34m\u001b[0m\u001b[0;34m\u001b[0m\u001b[0m\n\u001b[0m\u001b[1;32m     14\u001b[0m     \u001b[0mmoving_ref\u001b[0m\u001b[0;34m.\u001b[0m\u001b[0mgetNext\u001b[0m\u001b[0;34m(\u001b[0m\u001b[0;34m)\u001b[0m\u001b[0;34m.\u001b[0m\u001b[0msetNext\u001b[0m\u001b[0;34m(\u001b[0m\u001b[0;32mNone\u001b[0m\u001b[0;34m)\u001b[0m\u001b[0;34m\u001b[0m\u001b[0;34m\u001b[0m\u001b[0m\n\u001b[1;32m     15\u001b[0m \u001b[0;34m\u001b[0m\u001b[0m\n",
      "\u001b[0;31mAttributeError\u001b[0m: 'NoneType' object has no attribute 'getNext'"
     ]
    }
   ],
   "source": [
    "linked_list = removeNode(1,linked_list)"
   ]
  },
  {
   "cell_type": "code",
   "execution_count": 190,
   "metadata": {},
   "outputs": [
    {
     "name": "stdout",
     "output_type": "stream",
     "text": [
      "956\n",
      "219\n",
      "780\n",
      "912\n",
      "7\n",
      "803\n",
      "620\n",
      "653\n",
      "312\n",
      "665\n",
      "636\n",
      "730\n"
     ]
    }
   ],
   "source": [
    "linked_list = None\n",
    "linked_list = makeList(linked_list,12,True)\n",
    "endReference = traverseList(linked_list)"
   ]
  },
  {
   "cell_type": "code",
   "execution_count": 195,
   "metadata": {},
   "outputs": [
    {
     "ename": "AttributeError",
     "evalue": "'NoneType' object has no attribute 'getNext'",
     "output_type": "error",
     "traceback": [
      "\u001b[0;31m---------------------------------------------------------------------------\u001b[0m",
      "\u001b[0;31mAttributeError\u001b[0m                            Traceback (most recent call last)",
      "\u001b[0;32m<ipython-input-195-cb0af5abdc51>\u001b[0m in \u001b[0;36m<module>\u001b[0;34m\u001b[0m\n\u001b[0;32m----> 1\u001b[0;31m \u001b[0mlinked_list\u001b[0m \u001b[0;34m=\u001b[0m \u001b[0mremoveNode\u001b[0m\u001b[0;34m(\u001b[0m\u001b[0;36m10\u001b[0m\u001b[0;34m,\u001b[0m\u001b[0mlinked_list\u001b[0m\u001b[0;34m)\u001b[0m\u001b[0;34m\u001b[0m\u001b[0;34m\u001b[0m\u001b[0m\n\u001b[0m",
      "\u001b[0;32m<ipython-input-189-8ebe663275b0>\u001b[0m in \u001b[0;36mremoveNode\u001b[0;34m(pos, linked_list)\u001b[0m\n\u001b[1;32m     11\u001b[0m \u001b[0;34m\u001b[0m\u001b[0m\n\u001b[1;32m     12\u001b[0m \u001b[0;34m\u001b[0m\u001b[0m\n\u001b[0;32m---> 13\u001b[0;31m     \u001b[0mmoving_ref\u001b[0m\u001b[0;34m.\u001b[0m\u001b[0msetNext\u001b[0m\u001b[0;34m(\u001b[0m\u001b[0mmoving_ref\u001b[0m\u001b[0;34m.\u001b[0m\u001b[0mgetNext\u001b[0m\u001b[0;34m(\u001b[0m\u001b[0;34m)\u001b[0m\u001b[0;34m.\u001b[0m\u001b[0mgetNext\u001b[0m\u001b[0;34m(\u001b[0m\u001b[0;34m)\u001b[0m\u001b[0;34m)\u001b[0m\u001b[0;34m\u001b[0m\u001b[0;34m\u001b[0m\u001b[0m\n\u001b[0m\u001b[1;32m     14\u001b[0m     \u001b[0;31m#moving_ref.getNext().setNext(None)\u001b[0m\u001b[0;34m\u001b[0m\u001b[0;34m\u001b[0m\u001b[0;34m\u001b[0m\u001b[0m\n\u001b[1;32m     15\u001b[0m \u001b[0;34m\u001b[0m\u001b[0m\n",
      "\u001b[0;31mAttributeError\u001b[0m: 'NoneType' object has no attribute 'getNext'"
     ]
    }
   ],
   "source": [
    "linked_list = removeNode(10,linked_list)"
   ]
  },
  {
   "cell_type": "code",
   "execution_count": 26,
   "metadata": {},
   "outputs": [
    {
     "name": "stdout",
     "output_type": "stream",
     "text": [
      "3000\n",
      "114\n",
      "3000\n",
      "756\n",
      "322\n",
      "927\n",
      "392\n",
      "42\n",
      "274\n",
      "415\n",
      "680\n"
     ]
    }
   ],
   "source": [
    "end_reference = traverseList(linked_list)"
   ]
  },
  {
   "cell_type": "code",
   "execution_count": 27,
   "metadata": {},
   "outputs": [
    {
     "name": "stdout",
     "output_type": "stream",
     "text": [
      "680\n"
     ]
    }
   ],
   "source": [
    "print(end_reference.getItem())"
   ]
  },
  {
   "cell_type": "code",
   "execution_count": 42,
   "metadata": {},
   "outputs": [],
   "source": [
    "def removeNode(pos,end_reference,linked_list):\n",
    "    if linked_list == None:\n",
    "        return None\n",
    "    moving_ref = linked_list\n",
    "    for position in range(pos):# quick reminder range will be from 0 to pos -1 \n",
    "        moving_ref = moving_ref.getNext()\n",
    "        if moving_ref is end_reference:\n",
    "            print('''Overflow, please chose a different pos\n",
    "                  returning linked list unchanged''')\n",
    "            return linked_list\n",
    "    temp = moving_ref.getNext()\n",
    "    moving_ref.setNext(temp.getNext())\n",
    "    temp.setNext(None)\n",
    "    return linked_list\n",
    "\n",
    "      "
   ]
  },
  {
   "cell_type": "code",
   "execution_count": 31,
   "metadata": {},
   "outputs": [
    {
     "name": "stdout",
     "output_type": "stream",
     "text": [
      "3000\n",
      "114\n",
      "3000\n",
      "756\n",
      "322\n",
      "927\n",
      "392\n",
      "42\n",
      "274\n",
      "415\n",
      "680\n",
      "3000\n",
      "3000\n",
      "756\n",
      "322\n",
      "927\n",
      "392\n",
      "42\n",
      "274\n",
      "415\n",
      "680\n"
     ]
    }
   ],
   "source": [
    "end_reference = traverseList(linked_list)\n",
    "\n",
    "linked_list1 = removeNode(1,end_reference,linked_list)\n",
    "\n"
   ]
  },
  {
   "cell_type": "code",
   "execution_count": 32,
   "metadata": {},
   "outputs": [],
   "source": [
    "linked_list1 = removeNode(1,end_reference,linked_list)"
   ]
  },
  {
   "cell_type": "code",
   "execution_count": 34,
   "metadata": {},
   "outputs": [
    {
     "name": "stdout",
     "output_type": "stream",
     "text": [
      "3000\n",
      "756\n",
      "322\n",
      "927\n",
      "392\n",
      "42\n",
      "274\n",
      "415\n",
      "680\n"
     ]
    }
   ],
   "source": [
    "end_reference = traverseList(linked_list1)"
   ]
  },
  {
   "cell_type": "code",
   "execution_count": 53,
   "metadata": {},
   "outputs": [],
   "source": [
    "linked_list1 = removeNode(-2,end_reference,linked_list)"
   ]
  },
  {
   "cell_type": "code",
   "execution_count": 54,
   "metadata": {},
   "outputs": [
    {
     "name": "stdout",
     "output_type": "stream",
     "text": [
      "42\n",
      "274\n"
     ]
    }
   ],
   "source": [
    "end_reference = traverseList(linked_list1)"
   ]
  },
  {
   "cell_type": "code",
   "execution_count": null,
   "metadata": {},
   "outputs": [],
   "source": [
    "# ok now , i hope and I think we have the basic API for linked_list\n",
    "# in python. now let us create a linked_list class \n",
    "class SimpleLinkedList:\n",
    "'''def: linked list is a recursive data structure that is either empty\n",
    "    or a reference to a ndoe having a generic item and a reference to a linked list Sedgwick et all \"Algorithm 4th edition\"'''\n",
    "    \n",
    "    def gethead(self):\n",
    "        return self.head\n",
    "    \n",
    "    def setHead(self,head_ref):\n",
    "        self.head = head_ref\n",
    "    \n",
    "    def getTail(self):\n",
    "        return self.tail\n",
    "    \n",
    "    def setTail(self,tail_ref):\n",
    "        self.tail = tail_ref\n",
    "    \n",
    "    def getMax(self):\n",
    "        return self.max\n",
    "    \n",
    "    def setMax(self,max_ref):\n",
    "        self.max = max_ref\n",
    "    \n",
    "    def getMin(self):\n",
    "        return self.max\n",
    "    \n",
    "    def setMin(self,min_ref):\n",
    "        self.min = min_ref\n",
    "\n",
    "    # computational complexity o(1)\n",
    "    def insertAtBeginning(self, item):\n",
    "        current  = self.head\n",
    "        self.head  = Node.Nodev2(item,current)\n",
    "        \n",
    "    \n",
    "    # computational complexity o(n)\n",
    "    def __traverseList(self):\n",
    "        if self.head == None:\n",
    "        print(\"Linked List is empty\")\n",
    "        return None\n",
    "        current = self.head\n",
    "        while(current.getNext() != None):\n",
    "            current = current.getNext()\n",
    "        self.tail = current   \n",
    "    \n",
    "    # computational complexity o(n)\n",
    "    def insertAtEnd(self,item):\n",
    "        self.tail =__traverselist()\n",
    "        node = Node.Nodev2(item,None) # since it is an end node\n",
    "        self.tail.setNext(node)\n",
    "\n",
    "     #for insertNode at whe n == pos \n",
    "    \n",
    "\n",
    "    def insert(self,pos,item):\n",
    "        if  self.head == None:\n",
    "            self.head = insertAtBeginning(item,self.head)\n",
    "            return 0\n",
    "        if  pos < 0\n",
    "            print(\"Invalid position\")\n",
    "            return -1\n",
    "        new_node = Node.Nodev2(item,None)\n",
    "        current = self.head\n",
    "        for node_number in range(pos):\n",
    "            if  current.getNext() != None:\n",
    "                current = current.getNext()\n",
    "            else:\n",
    "                print(\"linked list overflow, return linked list as is \")\n",
    "                return -1\n",
    "        \n",
    "        new_node.setNext(current.getNext())\n",
    "        current.setNext(new_node)\n",
    "    \n",
    "        return 0\n",
    "    \n",
    "    def deleteFromBeginning(self.head):\n",
    "        if self.head == None: # empty list\n",
    "            return None\n",
    "        self.head = self.head.getNext()\n",
    "    \n",
    "    def deleteFromEnd(self):\n",
    "        if (self.head == None or self.head.getNext() == None):\n",
    "            self.head = None \n",
    "        current = self.head\n",
    "        while(current.getNext().getNext() != None):\n",
    "            current = current.getNext()\n",
    "        current.setNext(None) \n",
    "        self.tail = current\n",
    "        \n",
    "    def delete(self, pos):\n",
    "        if self.head == None:\n",
    "            return -1 \n",
    "        current  = self.head\n",
    "        for position in range(pos):# quick reminder range will be from 0 to pos -1 \n",
    "            current = current.getNext()\n",
    "            if current is self.tail:\n",
    "                print('''Overflow, please chose a different pos\n",
    "                      returning linked list unchanged''')\n",
    "                return -1 \n",
    "        temp = current.getNext()\n",
    "        current.setNext(temp.getNext())\n",
    "        temp.setNext(None)\n",
    "        \n",
    "    def search(self,key):\n",
    "        '''A query that given a linked list and a key returns\n",
    "            a reference to the node containing the key or none '''\n",
    "        current == self.head\n",
    "        \n",
    "        while(current.getNext() != None):\n",
    "            current = current.getNext()\n",
    "            if (current.getItem() == key):\n",
    "                return current\n",
    "        \n",
    "        # reached end and did not find\n",
    "        \n",
    "        return current.getNext()\n",
    "    \n",
    "    def minimum(self): #\n",
    "        # depends on the values of the items\n",
    "        # assuming set of real numbers \n",
    "        if self.head == None:\n",
    "            print(\"Emtpy list \")\n",
    "            return -1\n",
    "        if self.head.getNext() == None:\n",
    "            return self.head\n",
    "        \n",
    "        miniumum = math.inf\n",
    "        \n",
    "        current == self.head\n",
    "        ref_to_minimum = None\n",
    "        \n",
    "        while(current.getNext() != None):\n",
    "            current = current.getNext()\n",
    "            if (current.getItem() < minimum):\n",
    "                minimum = current.getItem()\n",
    "                ref_to_minimum = current\n",
    "                \n",
    "        self.min = ref_to_minimum \n",
    "        \n",
    "    def maximum (self): # to implement after implementing a sort\n",
    "    \n",
    "        # depends on the values of the items\n",
    "        # assuming set of real numbers \n",
    "        if self.head == None:\n",
    "            print(\"Emtpy list \")\n",
    "            return -1\n",
    "        if self.head.getNext() == None:\n",
    "            return self.head\n",
    "        \n",
    "        maximum = -math.inf\n",
    "        \n",
    "        current == self.head\n",
    "        ref_to_max = None\n",
    "        \n",
    "        while(current.getNext() != None):\n",
    "            current = current.getNext()\n",
    "            if (current.getItem() > maximum):\n",
    "                maximum = current.getItem()\n",
    "                ref_to_max = current\n",
    "                \n",
    "        self.max = ref_to_max\n",
    "    \n",
    "    def successor(self):\n",
    "        successor_ref = None\n",
    "        maximum = -math.inf \n",
    "        current = self.head\n",
    "        while(current.getNext() != None):\n",
    "            if (current.getItem() > maximum and current is not self.max):\n",
    "                maximum = current.getItem()\n",
    "                successor_ref = current\n",
    "        \n",
    "        return successor_ref \n",
    "        \n",
    "     \n",
    "    def predecessor(self):\n",
    "        predecessor_ref = None\n",
    "        minimum = math.inf \n",
    "        current = self.head\n",
    "        while(current.getNext() != None):\n",
    "            if (current.getItem() < minimum and current is not self.max):\n",
    "                minimum = current.getItem()\n",
    "                predecessor_ref = current\n",
    "        \n",
    "        return predecessor_ref    \n",
    "    "
   ]
  },
  {
   "cell_type": "code",
   "execution_count": 3,
   "metadata": {},
   "outputs": [
    {
     "name": "stdout",
     "output_type": "stream",
     "text": [
      "inf\n"
     ]
    },
    {
     "data": {
      "text/plain": [
       "False"
      ]
     },
     "execution_count": 3,
     "metadata": {},
     "output_type": "execute_result"
    }
   ],
   "source": [
    "import math \n",
    "\n",
    "print(math.inf)\n",
    "\n",
    "-10000000000 < -math.inf"
   ]
  },
  {
   "cell_type": "code",
   "execution_count": null,
   "metadata": {},
   "outputs": [],
   "source": []
  }
 ],
 "metadata": {
  "kernelspec": {
   "display_name": "Python 3",
   "language": "python",
   "name": "python3"
  },
  "language_info": {
   "codemirror_mode": {
    "name": "ipython",
    "version": 3
   },
   "file_extension": ".py",
   "mimetype": "text/x-python",
   "name": "python",
   "nbconvert_exporter": "python",
   "pygments_lexer": "ipython3",
   "version": "3.5.2"
  }
 },
 "nbformat": 4,
 "nbformat_minor": 2
}
